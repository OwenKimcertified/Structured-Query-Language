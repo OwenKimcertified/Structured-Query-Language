{
 "cells": [
  {
   "cell_type": "markdown",
   "metadata": {},
   "source": [
    "### leetcode 1204 DB (MySQL)\n",
    "\n",
    "버스의 최대 하중은 1000kg 이고 하중의 조건에 부합한 상태에서\n",
    "\n",
    "마지막 탑승자의 이름을 구하는 문제. (딱 값 포함 1000kg)\n",
    "\n",
    "turn 이 존재하여 탑승 순서를 알 수 있고\n",
    "\n",
    "누적 kg의 합을 계산한 컬럼이 있는 sub_table 을 만들어서 \n",
    "\n",
    "order by desc, limit 1 로 풀면 되겠다. \n",
    "\n",
    "```python\n",
    "select person_name\n",
    "\n",
    "from (select\n",
    "      turn,\n",
    "      person_name,\n",
    "      weight,\n",
    "      sum(weight) over (order by turn) as total_weight\n",
    "      from Queue\n",
    "      ) as sub_table\n",
    "\n",
    "# 1000이면 걸려야 함.\n",
    "where total_weight <= 1000\n",
    "order by turn desc\n",
    "limit 1;\n",
    "```"
   ]
  }
 ],
 "metadata": {
  "kernelspec": {
   "display_name": "BD",
   "language": "python",
   "name": "python3"
  },
  "language_info": {
   "name": "python",
   "version": "3.9.0"
  }
 },
 "nbformat": 4,
 "nbformat_minor": 2
}
