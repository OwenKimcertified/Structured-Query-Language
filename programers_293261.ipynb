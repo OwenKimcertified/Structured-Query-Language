{
 "cells": [
  {
   "cell_type": "markdown",
   "metadata": {},
   "source": [
    "### Programers 물고기 종류 별 대어 찾기.\n",
    "\n",
    "이 문제는 물고기의 종류 별로 가장 큰 물고기의 ID, 이름, 길이를 출력하는 문제.\n",
    "\n",
    "물고기의 정보가 담긴 FISH_INFO 테이블과 이름 정보가 담긴 FISH_NAME_INFO 테이블이 있음.\n",
    "\n",
    "where 절에서 type, length 가 하위 집합 쿼리에 잡히도록 작성.\n",
    "\n",
    "```python \n",
    "\n",
    "select fi.ID, fn.FISH_NAME, fi.LENGTH\n",
    "\n",
    "from FISH_INFO as fi\n",
    "inner join FISH_NAME_INFO as fn on fi.FISH_TYPE = fn.FISH_TYPE\n",
    "\n",
    "where (fi.FISH_TYPE, fi.LENGTH) in (select FISH_TYPE, max(LENGTH)\n",
    "                                    from FISH_INFO\n",
    "                                    group by FISH_TYPE)\n",
    "                    \n",
    "order by fi.ID\n",
    "```\n",
    "\n",
    "### 복기\n",
    "\n",
    "```python\n",
    "select FISH_TYPE, max(LENGTH)\n",
    "from FISH_INFO\n",
    "group by FISH_TYPE\n",
    "```\n",
    "\n",
    "위의 쿼리도 그룹화 되지 않은 column 이 집계 함수 없이 \n",
    "\n",
    "select 절에 쓰일 수 없기 때문에 집계 함수를 써서 사용 가능.\n",
    "\n",
    "\n",
    "### leetcode 에서도 봤던 유형\n",
    "\n",
    "```python\n",
    "where (fi.FISH_TYPE, fi.LENGTH) in (select FISH_TYPE, max(LENGTH)\n",
    "                                    from FISH_INFO\n",
    "                                    group by FISH_TYPE)\n",
    "```\n",
    "\n",
    "문제 자체가 `종류 별 최대 길이의 물고기 정보를 반환`하는 문제였기 때문에 \n",
    "\n",
    "물고기 종류, 길이가 종류 별로 그룹화된 서브 테이블에서 유형과\n",
    "\n",
    "최대 길이에 해당하는 raw 만 가져오도록 작성하면 되겠다."
   ]
  }
 ],
 "metadata": {
  "kernelspec": {
   "display_name": "BD",
   "language": "python",
   "name": "python3"
  },
  "language_info": {
   "name": "python",
   "version": "3.9.0"
  }
 },
 "nbformat": 4,
 "nbformat_minor": 2
}
