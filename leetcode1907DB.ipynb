{
 "cells": [
  {
   "cell_type": "markdown",
   "metadata": {},
   "source": [
    "```python\n",
    "select \n",
    "category, \n",
    "coalesce(count(*), 0) as accounts_count\n",
    "\n",
    "from \n",
    "(select case \n",
    "            when income < 20000 then \"Low Salary\"  \n",
    "            when income between 20000 and 50000 then \"Average Salary\" \n",
    "            when income > 50000 then \"High Salary\" \n",
    "        end as category\n",
    "            \n",
    " from accounts) as sub_query\n",
    " \n",
    " group by category \n",
    " ```\n",
    "\n",
    " 기존에 생각헀던 쿼리.\n",
    "\n",
    " 서브 쿼리로 하위 집합을 필터링 후 \n",
    "\n",
    " count 로 하면 0개인 결과도 0으로 리턴해주겠지? 했는데 \n",
    "\n",
    " 0은 리턴하지 않았고 coalesce, ifnull 을 써도 마찬가지였다.\n",
    "\n",
    " 해결 방법으로는 join 을 써서 출력하고 있었다."
   ]
  },
  {
   "cell_type": "markdown",
   "metadata": {},
   "source": [
    "```python\n",
    "# table reframe \n",
    "# 0 case return => require union **\n",
    "\n",
    "select \n",
    "    categories.category,\n",
    "    coalesce(count(accounts.account_id), 0) as accounts_count\n",
    "from \n",
    "    (select 'Low Salary' as category\n",
    "     union all\n",
    "     select 'Average Salary' as category\n",
    "     union all\n",
    "     select 'High Salary' as category) as categories\n",
    "left join \n",
    "    accounts on case \n",
    "                    when categories.category = 'Low Salary' then accounts.income < 20000\n",
    "                    when categories.category = 'Average Salary' then accounts.income between 20000 and 50000\n",
    "                    when categories.category = 'High Salary' then accounts.income > 50000\n",
    "                end\n",
    "group by \n",
    "    categories.category;\n",
    "```\n",
    "\n",
    "분명 더 좋은 쿼리가 있을 거 같은데... \n",
    "\n",
    "이게 맞나 싶을 정도로 길어졌다."
   ]
  }
 ],
 "metadata": {
  "kernelspec": {
   "display_name": "BD",
   "language": "python",
   "name": "python3"
  },
  "language_info": {
   "name": "python",
   "version": "3.9.0"
  }
 },
 "nbformat": 4,
 "nbformat_minor": 2
}
