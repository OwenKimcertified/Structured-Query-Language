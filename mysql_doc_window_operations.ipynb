{
 "cells": [
  {
   "cell_type": "markdown",
   "metadata": {},
   "source": [
    "### Window operations. `over clause`\n",
    "\n",
    "### 테이블 예시\n",
    "\n",
    "```python \n",
    "mysql> SELECT\n",
    "         year, country, product, profit,\n",
    "         SUM(profit) OVER() AS total_profit,\n",
    "         SUM(profit) OVER(PARTITION BY country) AS country_profit\n",
    "       FROM sales\n",
    "       ORDER BY country, year, product, profit;\n",
    "+------+---------+------------+--------+--------------+----------------+\n",
    "| year | country | product    | profit | total_profit | country_profit |\n",
    "+------+---------+------------+--------+--------------+----------------+\n",
    "| 2000 | Finland | Computer   |   1500 |         7535 |           1610 |\n",
    "| 2000 | Finland | Phone      |    100 |         7535 |           1610 |\n",
    "| 2001 | Finland | Phone      |     10 |         7535 |           1610 |\n",
    "| 2000 | India   | Calculator |     75 |         7535 |           1350 |\n",
    "| 2000 | India   | Calculator |     75 |         7535 |           1350 |\n",
    "| 2000 | India   | Computer   |   1200 |         7535 |           1350 |\n",
    "| 2000 | USA     | Calculator |     75 |         7535 |           4575 |\n",
    "| 2000 | USA     | Computer   |   1500 |         7535 |           4575 |\n",
    "| 2001 | USA     | Calculator |     50 |         7535 |           4575 |\n",
    "| 2001 | USA     | Computer   |   1200 |         7535 |           4575 |\n",
    "| 2001 | USA     | Computer   |   1500 |         7535 |           4575 |\n",
    "| 2001 | USA     | TV         |    100 |         7535 |           4575 |\n",
    "| 2001 | USA     | TV         |    150 |         7535 |           4575 |\n",
    "+------+---------+------------+--------+--------------+----------------+\n",
    "```\n",
    "\n",
    "- SUM(profit) OVER() AS total_profit, 윈도우를 테이블 전체로 지정한 경우\n",
    "\n",
    "전체 테이블의 합계로 계산.\n",
    "\n",
    "- SUM(profit) OVER(PARTITION BY country) AS country_profit 윈도우를 파티션으로 국가별로 지정한 경우\n",
    "\n",
    "각 국가별로 합계를 계산.\n",
    "\n",
    "### 공식 문서 내용 \n",
    "\n",
    "Window functions are permitted only in the select list and ORDER BY clause. \n",
    "\n",
    "`윈도우 함수는 select 리스트와 order by 절에서만 허용.`\n",
    "\n",
    "Query result rows are determined from the FROM clause, after WHERE, GROUP BY, and HAVING processing, and windowing execution occurs before ORDER BY, LIMIT, and SELECT DISTINCT.\n",
    "\n",
    "`쿼리의 결과 행은 from, where, group by, having, select, window, order by, limit, distinct 순서로 진행된다는 걸 뜻하는 것 같음`\n",
    "\n",
    "The OVER clause is permitted for many aggregate functions, which therefore can be used as window or nonwindow functions, depending on whether the OVER clause is present or absent:\n",
    "\n",
    "`over 절은 집계 함수에만 사용이 가능하고, over 절의 유무에 따라 윈도우 or not 윈도우 절로 사용한다.`"
   ]
  }
 ],
 "metadata": {
  "language_info": {
   "name": "python"
  }
 },
 "nbformat": 4,
 "nbformat_minor": 2
}
