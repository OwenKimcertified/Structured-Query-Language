{
 "cells": [
  {
   "cell_type": "markdown",
   "metadata": {},
   "source": [
    "### leetcode 262 DB (MySQL)\n",
    "\n",
    "User Table 에서 status column 이 \"banned\" 가 아닌 사람들을 참조하여 \n",
    "\n",
    "Trips Table 의 취소율 구하기. clients, drivers 가 user_id 에 묶여있어 \n",
    "\n",
    "하나 하나 추가해야 함. \"2013-10-01 ~ 03\" 까지의 취소율을 구하는 문제.\n",
    "\n",
    "무작정 풀었다가 시간이 오래 걸린 문제. \n",
    "\n",
    "`어렵진 않지만 테이블의 특성, 요구 조건을 명확하게 인지하는 것이 문제의 포인트라고 생각함.`\n",
    "\n",
    "`요구 조건이 쉽더라도 테이블의 정보를 정독하는 것은 습관으로 만들어야 할 거 같음.`\n",
    "\n",
    "```python\n",
    "select request_at as Day,\n",
    "round(sum(t.status != 'completed') / count(*), 2) as \"Cancellation Rate\"\n",
    "from trips as t\n",
    "left join users as clients on t.client_id = clients.users_id \n",
    "left join users as driver on  t.driver_id = driver.users_id\n",
    "where driver.banned = 'No'\n",
    "and clients.banned = 'No'\n",
    "and request_at between '2013-10-01' and '2013-10-03'\n",
    "group by Day\n",
    "```"
   ]
  }
 ],
 "metadata": {
  "kernelspec": {
   "display_name": "BD",
   "language": "python",
   "name": "python3"
  },
  "language_info": {
   "name": "python",
   "version": "3.9.0"
  }
 },
 "nbformat": 4,
 "nbformat_minor": 2
}
