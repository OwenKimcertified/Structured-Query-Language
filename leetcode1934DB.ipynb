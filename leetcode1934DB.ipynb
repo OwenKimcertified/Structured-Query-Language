{
 "cells": [
  {
   "cell_type": "markdown",
   "metadata": {},
   "source": [
    "### leetcode 1934 DB Medium\n",
    "\n",
    "사용자의 승인률을 구하는 문제 \n",
    "\n",
    "가입된 유저의 목록이 있는 테이블과 승인이 언제 이루어졌는지 로그가 있는 테이블이 있고\n",
    "\n",
    "총 몇 번의 승인을 받았는지를 백분률로 표현하는 문제.\n",
    "\n",
    "주의할 점은 승인을 받지 않았을 수도 있기 때문에 \n",
    "\n",
    "전체 사용자가 담긴 테이블을 활용하는 것이 포인트.\n",
    "\n",
    "그리고 count() 함수에서 count(case when ~ then 1 else 0 end) \n",
    "\n",
    "위와 같이 작성하면 더하기의 개념이 아니기 때문에 카운트 된다는 점을 주의.\n",
    "\n",
    "`전체 가입자가 있는 테이블에 group by 를 해서 가입은 했지만, 승인을 받지 않은 유저도 계산될 수 있도록 하자.`\n",
    "\n",
    "```python \n",
    "select \n",
    "s.user_id,\n",
    "round(count(case when c.action = 'confirmed' then 1 else null end) / count(s.user_id), 2) as confirmation_rate \n",
    "\n",
    "from signups as s\n",
    "left join confirmations as c on c.user_id = s.user_id \n",
    "\n",
    "group by s.user_id\n",
    "```\n",
    "\n",
    "```python\n",
    "count(case when c.action = 'confirmed' then 1 else null end)\n",
    "```\n",
    "\n",
    "위의 코드랑 아래의 코드랑 비교했을 때, 아래의 코드가 더 빨랐다.\n",
    "\n",
    "sum(case when c.action = 'confirmed' then 1 else 0 end) \n",
    "\n",
    "일반적으로 더 빠른가보다."
   ]
  }
 ],
 "metadata": {
  "language_info": {
   "name": "python"
  }
 },
 "nbformat": 4,
 "nbformat_minor": 2
}
