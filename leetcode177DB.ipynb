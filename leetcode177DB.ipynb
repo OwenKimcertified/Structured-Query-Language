{
 "cells": [
  {
   "cell_type": "markdown",
   "metadata": {},
   "source": [
    "### Leetcode 177 DB (MySQL)\n",
    "\n",
    "이 문제는 N 번째로 높은 급여를 받는 사람을 찾는 문제.\n",
    "\n",
    "함수 쿼리 문제이며, N 은 param 으로 N 값이 주어지면\n",
    "\n",
    " N 값에 해당하는 순위의 Salary 를 받는 사람을 찾는 문제.\n",
    "\n",
    " ```python\n",
    "create function getNthHighestSalary(N int) returns int\n",
    "    begin\n",
    "        return (\n",
    "            select distinct salary \n",
    "            from (select salary, dense_rank() over(order by salary desc) as s_rank\n",
    "            from employee) sub_table\n",
    "            where N = s_rank\n",
    "               );\n",
    "end\n",
    "``` \n",
    "\n",
    "```python\n",
    "Output = {\"headers\": [\"getNthHighestSalary(2)\"], \"values\": [[200]]}\n",
    "```\n",
    "\n",
    "결과는 위와 같이 나옴.\n",
    "\n",
    "문제 자체는 익숙해서 어렵지 않았지만, 함수로 표현하는 방법을 배움."
   ]
  }
 ],
 "metadata": {
  "kernelspec": {
   "display_name": "BD",
   "language": "python",
   "name": "python3"
  },
  "language_info": {
   "name": "python",
   "version": "3.9.0"
  }
 },
 "nbformat": 4,
 "nbformat_minor": 2
}
