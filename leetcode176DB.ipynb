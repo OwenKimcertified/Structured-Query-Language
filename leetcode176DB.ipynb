{
 "cells": [
  {
   "cell_type": "markdown",
   "metadata": {},
   "source": [
    "### leetcode 176 DB (MySQL)\n",
    "\n",
    "이 문제는 두 번째로 높은 급여를 받는 사람을 찾고, 없다면 null 을 리턴하는 문제.\n",
    "\n",
    "첫 번째 쿼리\n",
    "\n",
    "```python\n",
    "select \n",
    "salary as SecondHighestSalary \n",
    "from (\n",
    "    select \n",
    "    id, \n",
    "    salary,\n",
    "    dense_rank() over(order by salary desc) as rank\n",
    "    from employee\n",
    ") as reframe_table\n",
    "where rank = 2;\n",
    "```\n",
    "\n",
    "rank 를 측정하는 새로운 함수를 만들고 rank 가 2 인 사람을 조건식에 걸어두었는데,\n",
    "\n",
    "문제는 같은 임금을 받는 사람이면 두 명이 나올 것이다.\n",
    "\n",
    "그리고 한 명도 두 번째로 높은 임금을 받는 사람이 없다면 null 을 리턴하지 않았다. (문제 조건 위반)\n",
    "\n",
    "두 번째 쿼리\n",
    "\n",
    "```python\n",
    "select max(salary) as SecondHighestSalary\n",
    "from employee\n",
    "where salary < (select max(salary) from employee);\n",
    "```\n",
    "\n",
    "첫 번째 쿼리보다 쉬웠는데 \n",
    "\n",
    "단순히 서브 쿼리로 가장 높은 임금을 받는 사람보다 낮은 임금을 받는 사람들을 찾고 \n",
    "\n",
    "select 절에서 max 함수를 사용하니 \n",
    "\n",
    "두 번째로 높은 임금을 받는 사람을 찾고, 만약 없다면 null 을 리턴했다.\n",
    "\n",
    "원래는 null 값을 리턴받기 위해서는 조인을 써야만 하는 걸로 알았는데 아니였다. \n",
    "\n",
    "또 하나 배워갑니다."
   ]
  }
 ],
 "metadata": {
  "kernelspec": {
   "display_name": "BD",
   "language": "python",
   "name": "python3"
  },
  "language_info": {
   "name": "python",
   "version": "3.9.0"
  }
 },
 "nbformat": 4,
 "nbformat_minor": 2
}
